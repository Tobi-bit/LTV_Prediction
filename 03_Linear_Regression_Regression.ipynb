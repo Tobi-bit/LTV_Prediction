{
 "cells": [
  {
   "cell_type": "code",
   "execution_count": 43,
   "id": "e1f99a9d",
   "metadata": {},
   "outputs": [],
   "source": [
    "# importing required libraries\n",
    "import pandas as pd\n",
    "import numpy as np\n",
    "import matplotlib.pyplot as plt\n",
    "import seaborn as sns\n",
    "import os\n",
    "from IPython.display import display\n",
    "import warnings\n",
    "from contextlib import contextmanager\n",
    "import joblib\n",
    "\n",
    "\n",
    "from sklearn.model_selection import KFold\n",
    "from sklearn.model_selection import cross_val_score\n",
    "from sklearn.model_selection import cross_validate\n",
    "\n",
    "\n",
    "from sklearn.linear_model import LinearRegression\n",
    "from sklearn.linear_model import LogisticRegression\n",
    "from sklearn.model_selection import KFold\n",
    "from sklearn.model_selection import cross_val_score\n",
    "from sklearn.metrics import make_scorer\n",
    "from sklearn import metrics\n",
    "from sklearn.metrics import classification_report, confusion_matrix\n",
    "from sklearn.metrics import ConfusionMatrixDisplay\n",
    "from sklearn.metrics import cohen_kappa_score\n",
    "from sklearn.metrics import mean_squared_error, mean_absolute_error, mean_absolute_percentage_error, mean_squared_log_error\n",
    "\n",
    "# library options\n",
    "%matplotlib inline\n",
    "pd.options.display.max_columns = None\n",
    "warnings.filterwarnings('ignore')"
   ]
  },
  {
   "cell_type": "markdown",
   "id": "9472f107",
   "metadata": {},
   "source": [
    "# Read in the Train and Test data"
   ]
  },
  {
   "cell_type": "code",
   "execution_count": 44,
   "id": "96f7acca",
   "metadata": {},
   "outputs": [],
   "source": [
    "X_train = np.array(pd.read_parquet(r'C:\\Users\\lb199\\rwth-aachen.de\\Kai Blumberg - Advanced Topics in Marketing Analytics\\data\\final\\X_train.parquet')).astype('float')\n",
    "X_test = np.array(pd.read_parquet(r'C:\\Users\\lb199\\rwth-aachen.de\\Kai Blumberg - Advanced Topics in Marketing Analytics\\data\\final\\X_test.parquet')).astype('float')  \n",
    "\n",
    "y_test_reg = np.array(pd.read_parquet(r'C:\\Users\\lb199\\rwth-aachen.de\\Kai Blumberg - Advanced Topics in Marketing Analytics\\data\\final\\y_test.parquet')['sum_payments_package_key_ltv']).astype('float')\n",
    "y_train_reg = np.array(pd.read_parquet(r'C:\\Users\\lb199\\rwth-aachen.de\\Kai Blumberg - Advanced Topics in Marketing Analytics\\data\\final\\y_train.parquet')['sum_payments_package_key_ltv']).astype('float')"
   ]
  },
  {
   "cell_type": "markdown",
   "id": "660a3fb1",
   "metadata": {},
   "source": [
    "# Regression"
   ]
  },
  {
   "cell_type": "code",
   "execution_count": 45,
   "id": "fa378d7f",
   "metadata": {},
   "outputs": [
    {
     "data": {
      "text/plain": [
       "LinearRegression()"
      ]
     },
     "execution_count": 45,
     "metadata": {},
     "output_type": "execute_result"
    }
   ],
   "source": [
    "regressor = LinearRegression()  \n",
    "\n",
    "# Train the model on training data\n",
    "regressor.fit(X_train, y_train_reg) "
   ]
  },
  {
   "cell_type": "code",
   "execution_count": 46,
   "id": "0891e30f",
   "metadata": {},
   "outputs": [],
   "source": [
    "y_pred_r = regressor.predict(X_test)"
   ]
  },
  {
   "cell_type": "code",
   "execution_count": 64,
   "id": "50b708f9",
   "metadata": {},
   "outputs": [],
   "source": [
    "# Limit predicted values to min=0\n",
    "y_pred_r=np.clip(y_pred, a_min=0,a_max=None)"
   ]
  },
  {
   "cell_type": "code",
   "execution_count": 65,
   "id": "8a4ac98a",
   "metadata": {},
   "outputs": [
    {
     "data": {
      "text/html": [
       "<div>\n",
       "<style scoped>\n",
       "    .dataframe tbody tr th:only-of-type {\n",
       "        vertical-align: middle;\n",
       "    }\n",
       "\n",
       "    .dataframe tbody tr th {\n",
       "        vertical-align: top;\n",
       "    }\n",
       "\n",
       "    .dataframe thead th {\n",
       "        text-align: right;\n",
       "    }\n",
       "</style>\n",
       "<table border=\"1\" class=\"dataframe\">\n",
       "  <thead>\n",
       "    <tr style=\"text-align: right;\">\n",
       "      <th></th>\n",
       "      <th>Actual</th>\n",
       "      <th>Predicted</th>\n",
       "    </tr>\n",
       "  </thead>\n",
       "  <tbody>\n",
       "    <tr>\n",
       "      <th>0</th>\n",
       "      <td>29.95</td>\n",
       "      <td>29.122879</td>\n",
       "    </tr>\n",
       "    <tr>\n",
       "      <th>1</th>\n",
       "      <td>0.99</td>\n",
       "      <td>0.000000</td>\n",
       "    </tr>\n",
       "    <tr>\n",
       "      <th>2</th>\n",
       "      <td>7.94</td>\n",
       "      <td>14.409470</td>\n",
       "    </tr>\n",
       "    <tr>\n",
       "      <th>3</th>\n",
       "      <td>2.99</td>\n",
       "      <td>0.559067</td>\n",
       "    </tr>\n",
       "    <tr>\n",
       "      <th>4</th>\n",
       "      <td>164.00</td>\n",
       "      <td>100.356369</td>\n",
       "    </tr>\n",
       "    <tr>\n",
       "      <th>...</th>\n",
       "      <td>...</td>\n",
       "      <td>...</td>\n",
       "    </tr>\n",
       "    <tr>\n",
       "      <th>27943</th>\n",
       "      <td>1.98</td>\n",
       "      <td>3.569717</td>\n",
       "    </tr>\n",
       "    <tr>\n",
       "      <th>27944</th>\n",
       "      <td>65.87</td>\n",
       "      <td>94.608978</td>\n",
       "    </tr>\n",
       "    <tr>\n",
       "      <th>27945</th>\n",
       "      <td>0.99</td>\n",
       "      <td>8.002441</td>\n",
       "    </tr>\n",
       "    <tr>\n",
       "      <th>27946</th>\n",
       "      <td>49.95</td>\n",
       "      <td>67.352997</td>\n",
       "    </tr>\n",
       "    <tr>\n",
       "      <th>27947</th>\n",
       "      <td>5.98</td>\n",
       "      <td>10.730118</td>\n",
       "    </tr>\n",
       "  </tbody>\n",
       "</table>\n",
       "<p>27948 rows × 2 columns</p>\n",
       "</div>"
      ],
      "text/plain": [
       "       Actual   Predicted\n",
       "0       29.95   29.122879\n",
       "1        0.99    0.000000\n",
       "2        7.94   14.409470\n",
       "3        2.99    0.559067\n",
       "4      164.00  100.356369\n",
       "...       ...         ...\n",
       "27943    1.98    3.569717\n",
       "27944   65.87   94.608978\n",
       "27945    0.99    8.002441\n",
       "27946   49.95   67.352997\n",
       "27947    5.98   10.730118\n",
       "\n",
       "[27948 rows x 2 columns]"
      ]
     },
     "execution_count": 65,
     "metadata": {},
     "output_type": "execute_result"
    }
   ],
   "source": [
    "# Show the Actual and Predicted y\n",
    "df = pd.DataFrame({'Actual': y_test_reg.flatten(), 'Predicted': y_pred_r.flatten()})\n",
    "df"
   ]
  },
  {
   "cell_type": "code",
   "execution_count": 66,
   "id": "a34eb41d",
   "metadata": {},
   "outputs": [
    {
     "name": "stdout",
     "output_type": "stream",
     "text": [
      "MAE:  15.787350691930065\n",
      "MSE:  777.1261716908176\n",
      "RMSE:  27.876982829761502\n",
      "R2:  0.5536433447914737\n",
      "MSLE:  0.904720468974807\n"
     ]
    }
   ],
   "source": [
    "# Model Accuracy\n",
    "print(\"MAE: \", metrics.mean_absolute_error(y_test_reg, y_pred_r))\n",
    "print(\"MSE: \", metrics.mean_squared_error(y_test_reg, y_pred_r, squared=True))\n",
    "print(\"RMSE: \", metrics.mean_squared_error(y_test_reg, y_pred_r, squared=False))\n",
    "print(\"R2: \", metrics.r2_score(y_test_reg, y_pred_r))\n",
    "print(\"MSLE: \", metrics.mean_squared_log_error(y_test_reg, y_pred_r))"
   ]
  },
  {
   "cell_type": "markdown",
   "id": "ac5ee509",
   "metadata": {},
   "source": [
    "## 10-fold cross-validation"
   ]
  },
  {
   "cell_type": "code",
   "execution_count": 76,
   "id": "c7231da0",
   "metadata": {},
   "outputs": [
    {
     "name": "stdout",
     "output_type": "stream",
     "text": [
      "MSE:\n",
      "[756.15736035 763.95929941 749.65064654 735.53136172 806.54080919\n",
      " 770.92769669 780.20117062 782.52213731 788.26513301 771.547363  ]\n",
      "The mean is 770.5302977828229 with a standard deviation of 19.39187553592091\n"
     ]
    }
   ],
   "source": [
    "inputs = np.concatenate((X_train, X_test), axis=0)\n",
    "targets = np.concatenate((y_train_reg, y_test_reg), axis=0)\n",
    "\n",
    "score = cross_val_score(estimator=regressor, X=inputs, y=targets, cv=10, scoring=metrics.make_scorer(metrics.mean_squared_error))\n",
    "print(\"MSE:\")\n",
    "print(score)\n",
    "print(\"The mean is \" + str(score.mean()) + \" with a standard deviation of \" + str(score.std()))"
   ]
  },
  {
   "cell_type": "code",
   "execution_count": 77,
   "id": "4c53599c",
   "metadata": {},
   "outputs": [
    {
     "name": "stdout",
     "output_type": "stream",
     "text": [
      "MAE:\n",
      "[15.96502936 16.144839   15.97042495 15.85751105 16.41176321 16.00783886\n",
      " 16.22219991 16.30708196 16.12466591 16.05916529]\n",
      "The mean is 16.107051950971616 with a standard deviation of 0.1615866641097618\n"
     ]
    }
   ],
   "source": [
    "score = cross_val_score(estimator=regressor, X=inputs, y=targets, cv=10, scoring=metrics.make_scorer(metrics.mean_absolute_error))\n",
    "print(\"MAE:\")\n",
    "print(score)\n",
    "print(\"The mean is \" + str(score.mean()) + \" with a standard deviation of \" + str(score.std()))"
   ]
  },
  {
   "cell_type": "code",
   "execution_count": 78,
   "id": "23816fcb",
   "metadata": {},
   "outputs": [
    {
     "name": "stdout",
     "output_type": "stream",
     "text": [
      "MAPE:\n",
      "[1.93768079 1.91371458 1.93691352 1.89160578 1.88797274 1.93799428\n",
      " 1.94898319 1.96116962 1.90241226 1.91208   ]\n",
      "The mean is 1.9230526770363099 with a standard deviation of 0.0236807612470667\n"
     ]
    }
   ],
   "source": [
    "score = cross_val_score(estimator=regressor, X=inputs, y=targets, cv=10, scoring=metrics.make_scorer(metrics.mean_absolute_percentage_error))\n",
    "print(\"MAPE:\")\n",
    "print(score)\n",
    "print(\"The mean is \" + str(score.mean()) + \" with a standard deviation of \" + str(score.std()))"
   ]
  }
 ],
 "metadata": {
  "kernelspec": {
   "display_name": "Python 3",
   "language": "python",
   "name": "python3"
  },
  "language_info": {
   "codemirror_mode": {
    "name": "ipython",
    "version": 3
   },
   "file_extension": ".py",
   "mimetype": "text/x-python",
   "name": "python",
   "nbconvert_exporter": "python",
   "pygments_lexer": "ipython3",
   "version": "3.8.8"
  }
 },
 "nbformat": 4,
 "nbformat_minor": 5
}
